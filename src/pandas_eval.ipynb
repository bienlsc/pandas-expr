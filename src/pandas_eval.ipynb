{
 "cells": [
  {
   "cell_type": "code",
   "execution_count": 53,
   "metadata": {},
   "outputs": [],
   "source": [
    "import pandas as pd\n",
    "import numpy as np\n",
    "import regex as re"
   ]
  },
  {
   "cell_type": "code",
   "execution_count": 51,
   "metadata": {},
   "outputs": [
    {
     "name": "stdout",
     "output_type": "stream",
     "text": [
      "<class 'pandas.errors.UndefinedVariableError'>\n"
     ]
    },
    {
     "data": {
      "text/html": [
       "<div>\n",
       "<style scoped>\n",
       "    .dataframe tbody tr th:only-of-type {\n",
       "        vertical-align: middle;\n",
       "    }\n",
       "\n",
       "    .dataframe tbody tr th {\n",
       "        vertical-align: top;\n",
       "    }\n",
       "\n",
       "    .dataframe thead th {\n",
       "        text-align: right;\n",
       "    }\n",
       "</style>\n",
       "<table border=\"1\" class=\"dataframe\">\n",
       "  <thead>\n",
       "    <tr style=\"text-align: right;\">\n",
       "      <th></th>\n",
       "      <th>RCFD1111</th>\n",
       "      <th>RCFD2222</th>\n",
       "      <th>RCFD3333</th>\n",
       "    </tr>\n",
       "  </thead>\n",
       "  <tbody>\n",
       "    <tr>\n",
       "      <th>0</th>\n",
       "      <td>1</td>\n",
       "      <td>1</td>\n",
       "      <td>1</td>\n",
       "    </tr>\n",
       "    <tr>\n",
       "      <th>1</th>\n",
       "      <td>2</td>\n",
       "      <td>2</td>\n",
       "      <td>2</td>\n",
       "    </tr>\n",
       "    <tr>\n",
       "      <th>2</th>\n",
       "      <td>3</td>\n",
       "      <td>3</td>\n",
       "      <td>3</td>\n",
       "    </tr>\n",
       "  </tbody>\n",
       "</table>\n",
       "</div>"
      ],
      "text/plain": [
       "   RCFD1111  RCFD2222  RCFD3333\n",
       "0         1         1         1\n",
       "1         2         2         2\n",
       "2         3         3         3"
      ]
     },
     "execution_count": 51,
     "metadata": {},
     "output_type": "execute_result"
    }
   ],
   "source": [
    "# pandas.errors.UndefinedVariableError occurs when the variable or column name does not exist\n",
    "df = pd.DataFrame({\"RCFD1111\": [1, 2, 3], \"RCFD2222\": [1, 2, 3], \"RCFD3333\": [1, 2, 3]})\n",
    "try:\n",
    "    eval_string = \"RCFD1111 + RCFD5555\"\n",
    "    df[eval_string] = df.eval(eval_string)\n",
    "except Exception as e:\n",
    "    print(type(e))\n",
    "df\n"
   ]
  },
  {
   "cell_type": "code",
   "execution_count": 50,
   "metadata": {},
   "outputs": [
    {
     "data": {
      "text/html": [
       "<div>\n",
       "<style scoped>\n",
       "    .dataframe tbody tr th:only-of-type {\n",
       "        vertical-align: middle;\n",
       "    }\n",
       "\n",
       "    .dataframe tbody tr th {\n",
       "        vertical-align: top;\n",
       "    }\n",
       "\n",
       "    .dataframe thead th {\n",
       "        text-align: right;\n",
       "    }\n",
       "</style>\n",
       "<table border=\"1\" class=\"dataframe\">\n",
       "  <thead>\n",
       "    <tr style=\"text-align: right;\">\n",
       "      <th></th>\n",
       "      <th>RCFD1111</th>\n",
       "      <th>RCFD2222</th>\n",
       "      <th>RCFD3333</th>\n",
       "      <th>RCFD1111 + RCFD2222</th>\n",
       "    </tr>\n",
       "  </thead>\n",
       "  <tbody>\n",
       "    <tr>\n",
       "      <th>0</th>\n",
       "      <td>1</td>\n",
       "      <td>NaN</td>\n",
       "      <td>1</td>\n",
       "      <td>NaN</td>\n",
       "    </tr>\n",
       "    <tr>\n",
       "      <th>1</th>\n",
       "      <td>2</td>\n",
       "      <td>2.0</td>\n",
       "      <td>2</td>\n",
       "      <td>4.0</td>\n",
       "    </tr>\n",
       "    <tr>\n",
       "      <th>2</th>\n",
       "      <td>3</td>\n",
       "      <td>3.0</td>\n",
       "      <td>3</td>\n",
       "      <td>6.0</td>\n",
       "    </tr>\n",
       "  </tbody>\n",
       "</table>\n",
       "</div>"
      ],
      "text/plain": [
       "   RCFD1111  RCFD2222  RCFD3333  RCFD1111 + RCFD2222\n",
       "0         1       NaN         1                  NaN\n",
       "1         2       2.0         2                  4.0\n",
       "2         3       3.0         3                  6.0"
      ]
     },
     "execution_count": 50,
     "metadata": {},
     "output_type": "execute_result"
    }
   ],
   "source": [
    "# Any value containg a null, when evaluated, will always result in a null\n",
    "df = pd.DataFrame({\"RCFD1111\": [1, 2, 3], \"RCFD2222\": [np.nan, 2, 3], \"RCFD3333\": [1, 2, 3]})\n",
    "try:\n",
    "    eval_string = \"RCFD1111 + RCFD2222\"\n",
    "    df[eval_string] = df.eval(eval_string)\n",
    "except Exception as e:\n",
    "    print(type(e))\n",
    "df\n"
   ]
  },
  {
   "cell_type": "code",
   "execution_count": 49,
   "metadata": {},
   "outputs": [
    {
     "name": "stdout",
     "output_type": "stream",
     "text": [
      "<class 'pandas.errors.UndefinedVariableError'>\n"
     ]
    },
    {
     "data": {
      "text/html": [
       "<div>\n",
       "<style scoped>\n",
       "    .dataframe tbody tr th:only-of-type {\n",
       "        vertical-align: middle;\n",
       "    }\n",
       "\n",
       "    .dataframe tbody tr th {\n",
       "        vertical-align: top;\n",
       "    }\n",
       "\n",
       "    .dataframe thead th {\n",
       "        text-align: right;\n",
       "    }\n",
       "</style>\n",
       "<table border=\"1\" class=\"dataframe\">\n",
       "  <thead>\n",
       "    <tr style=\"text-align: right;\">\n",
       "      <th></th>\n",
       "      <th>RCFD1111</th>\n",
       "      <th>RCFD2222</th>\n",
       "      <th>RCFD3333</th>\n",
       "    </tr>\n",
       "  </thead>\n",
       "  <tbody>\n",
       "    <tr>\n",
       "      <th>0</th>\n",
       "      <td>1</td>\n",
       "      <td>NaN</td>\n",
       "      <td>1</td>\n",
       "    </tr>\n",
       "    <tr>\n",
       "      <th>1</th>\n",
       "      <td>2</td>\n",
       "      <td>2.0</td>\n",
       "      <td>2</td>\n",
       "    </tr>\n",
       "    <tr>\n",
       "      <th>2</th>\n",
       "      <td>3</td>\n",
       "      <td>3.0</td>\n",
       "      <td>3</td>\n",
       "    </tr>\n",
       "  </tbody>\n",
       "</table>\n",
       "</div>"
      ],
      "text/plain": [
       "   RCFD1111  RCFD2222  RCFD3333\n",
       "0         1       NaN         1\n",
       "1         2       2.0         2\n",
       "2         3       3.0         3"
      ]
     },
     "execution_count": 49,
     "metadata": {},
     "output_type": "execute_result"
    }
   ],
   "source": [
    "# Missing column name or variable will always have precedence over null values\n",
    "df = pd.DataFrame({\"RCFD1111\": [1, 2, 3], \"RCFD2222\": [np.nan, 2, 3], \"RCFD3333\": [1, 2, 3]})\n",
    "try:\n",
    "    eval_string = \"RCFD1111 + RCFD2222 + RCFD5555\"\n",
    "    df[eval_string] = df.eval(eval_string)\n",
    "except Exception as e:\n",
    "    print(type(e))\n",
    "df\n"
   ]
  },
  {
   "cell_type": "code",
   "execution_count": 48,
   "metadata": {},
   "outputs": [
    {
     "data": {
      "text/html": [
       "<div>\n",
       "<style scoped>\n",
       "    .dataframe tbody tr th:only-of-type {\n",
       "        vertical-align: middle;\n",
       "    }\n",
       "\n",
       "    .dataframe tbody tr th {\n",
       "        vertical-align: top;\n",
       "    }\n",
       "\n",
       "    .dataframe thead th {\n",
       "        text-align: right;\n",
       "    }\n",
       "</style>\n",
       "<table border=\"1\" class=\"dataframe\">\n",
       "  <thead>\n",
       "    <tr style=\"text-align: right;\">\n",
       "      <th></th>\n",
       "      <th>RCFD1111</th>\n",
       "      <th>RCFD2222</th>\n",
       "      <th>RCFD3333</th>\n",
       "      <th>RCFD1111 / RCFD3333</th>\n",
       "    </tr>\n",
       "  </thead>\n",
       "  <tbody>\n",
       "    <tr>\n",
       "      <th>0</th>\n",
       "      <td>1</td>\n",
       "      <td>1</td>\n",
       "      <td>0</td>\n",
       "      <td>inf</td>\n",
       "    </tr>\n",
       "    <tr>\n",
       "      <th>1</th>\n",
       "      <td>2</td>\n",
       "      <td>2</td>\n",
       "      <td>2</td>\n",
       "      <td>1.0</td>\n",
       "    </tr>\n",
       "    <tr>\n",
       "      <th>2</th>\n",
       "      <td>3</td>\n",
       "      <td>3</td>\n",
       "      <td>3</td>\n",
       "      <td>1.0</td>\n",
       "    </tr>\n",
       "  </tbody>\n",
       "</table>\n",
       "</div>"
      ],
      "text/plain": [
       "   RCFD1111  RCFD2222  RCFD3333  RCFD1111 / RCFD3333\n",
       "0         1         1         0                  inf\n",
       "1         2         2         2                  1.0\n",
       "2         3         3         3                  1.0"
      ]
     },
     "execution_count": 48,
     "metadata": {},
     "output_type": "execute_result"
    }
   ],
   "source": [
    "# If the denominator contains a 0, the resulting value will be inf\n",
    "df = pd.DataFrame({\"RCFD1111\": [1, 2, 3], \"RCFD2222\": [1, 2, 3], \"RCFD3333\": [0, 2, 3]})\n",
    "try:\n",
    "    eval_string = \"RCFD1111 / RCFD3333\"\n",
    "    df[eval_string] = df.eval(eval_string)\n",
    "except Exception as e:\n",
    "    print(e)\n",
    "    print(type(e))\n",
    "df"
   ]
  },
  {
   "cell_type": "code",
   "execution_count": 47,
   "metadata": {},
   "outputs": [
    {
     "data": {
      "text/html": [
       "<div>\n",
       "<style scoped>\n",
       "    .dataframe tbody tr th:only-of-type {\n",
       "        vertical-align: middle;\n",
       "    }\n",
       "\n",
       "    .dataframe tbody tr th {\n",
       "        vertical-align: top;\n",
       "    }\n",
       "\n",
       "    .dataframe thead th {\n",
       "        text-align: right;\n",
       "    }\n",
       "</style>\n",
       "<table border=\"1\" class=\"dataframe\">\n",
       "  <thead>\n",
       "    <tr style=\"text-align: right;\">\n",
       "      <th></th>\n",
       "      <th>RCFD1111</th>\n",
       "      <th>RCFD2222</th>\n",
       "      <th>RCFD3333</th>\n",
       "      <th>RCFD1111 / RCFD3333</th>\n",
       "    </tr>\n",
       "  </thead>\n",
       "  <tbody>\n",
       "    <tr>\n",
       "      <th>0</th>\n",
       "      <td>1</td>\n",
       "      <td>1</td>\n",
       "      <td>NaN</td>\n",
       "      <td>NaN</td>\n",
       "    </tr>\n",
       "    <tr>\n",
       "      <th>1</th>\n",
       "      <td>2</td>\n",
       "      <td>2</td>\n",
       "      <td>2.0</td>\n",
       "      <td>1.0</td>\n",
       "    </tr>\n",
       "    <tr>\n",
       "      <th>2</th>\n",
       "      <td>3</td>\n",
       "      <td>3</td>\n",
       "      <td>3.0</td>\n",
       "      <td>1.0</td>\n",
       "    </tr>\n",
       "  </tbody>\n",
       "</table>\n",
       "</div>"
      ],
      "text/plain": [
       "   RCFD1111  RCFD2222  RCFD3333  RCFD1111 / RCFD3333\n",
       "0         1         1       NaN                  NaN\n",
       "1         2         2       2.0                  1.0\n",
       "2         3         3       3.0                  1.0"
      ]
     },
     "execution_count": 47,
     "metadata": {},
     "output_type": "execute_result"
    }
   ],
   "source": [
    "# If the denominator contains a null, the resulting value will be null\n",
    "df = pd.DataFrame({\"RCFD1111\": [1, 2, 3], \"RCFD2222\": [1, 2, 3], \"RCFD3333\": [np.nan, 2, 3]})\n",
    "try:\n",
    "    eval_string = \"RCFD1111 / RCFD3333\"\n",
    "    df[eval_string] = df.eval(eval_string)\n",
    "except Exception as e:\n",
    "    print(e)\n",
    "    print(type(e))\n",
    "df"
   ]
  },
  {
   "cell_type": "code",
   "execution_count": 66,
   "metadata": {},
   "outputs": [
    {
     "data": {
      "text/html": [
       "<div>\n",
       "<style scoped>\n",
       "    .dataframe tbody tr th:only-of-type {\n",
       "        vertical-align: middle;\n",
       "    }\n",
       "\n",
       "    .dataframe tbody tr th {\n",
       "        vertical-align: top;\n",
       "    }\n",
       "\n",
       "    .dataframe thead th {\n",
       "        text-align: right;\n",
       "    }\n",
       "</style>\n",
       "<table border=\"1\" class=\"dataframe\">\n",
       "  <thead>\n",
       "    <tr style=\"text-align: right;\">\n",
       "      <th></th>\n",
       "      <th>RCFD1111</th>\n",
       "      <th>RCFD2222</th>\n",
       "      <th>RCFD3333</th>\n",
       "      <th>RCFD1111 / RCFD3333</th>\n",
       "    </tr>\n",
       "  </thead>\n",
       "  <tbody>\n",
       "    <tr>\n",
       "      <th>0</th>\n",
       "      <td>1</td>\n",
       "      <td>1</td>\n",
       "      <td>NaN</td>\n",
       "      <td>NaN</td>\n",
       "    </tr>\n",
       "    <tr>\n",
       "      <th>1</th>\n",
       "      <td>2</td>\n",
       "      <td>2</td>\n",
       "      <td>0.0</td>\n",
       "      <td>inf</td>\n",
       "    </tr>\n",
       "    <tr>\n",
       "      <th>2</th>\n",
       "      <td>0</td>\n",
       "      <td>3</td>\n",
       "      <td>0.0</td>\n",
       "      <td>NaN</td>\n",
       "    </tr>\n",
       "  </tbody>\n",
       "</table>\n",
       "</div>"
      ],
      "text/plain": [
       "   RCFD1111  RCFD2222  RCFD3333  RCFD1111 / RCFD3333\n",
       "0         1         1       NaN                  NaN\n",
       "1         2         2       0.0                  inf\n",
       "2         0         3       0.0                  NaN"
      ]
     },
     "execution_count": 66,
     "metadata": {},
     "output_type": "execute_result"
    }
   ],
   "source": [
    "# 1. Using regex, extract the column names for individual MDRM codes\n",
    "pattern = r'^[A-Z]{4}[A-Z0-9]{4}'\n",
    "\n",
    "# If the denominator contains a null, the resulting value will be null\n",
    "df = pd.DataFrame({\"RCFD1111\": [1, 2, 0], \"RCFD2222\": [1, 2, 3], \"RCFD3333\": [np.nan, 0, 0]})\n",
    "try:\n",
    "    eval_string = \"RCFD1111 / RCFD3333\"\n",
    "    mdrm_columns = re.findall(pattern, eval_string)\n",
    "    df[eval_string] = df.eval(eval_string)\n",
    "except Exception as e:\n",
    "    print(e)\n",
    "    print(type(e))\n",
    "df"
   ]
  },
  {
   "cell_type": "markdown",
   "metadata": {},
   "source": [
    "### Business Logic:\n",
    "  * Suppose an expression for getting the sum of two columns is `RCFD1111 + RCFD2222` and the column `RCFD2222` does not exist but `RCFD1111` does. The missing column should be treated as it exists but contains 0 as value.\n",
    "  * Suppose an expression for getting the sum of two columns is `RCFD1111 + RCFD2222` and both `RCFD1111` and `RCFD2222` do not exist. This should result in a null value.\n",
    "  * Suppose an expression for getting the qoutient of two columns `RCFD1111 / RCFD2222` and either the numerator or denominator column does not exist. The resulting value should be null.\n",
    "  * Suppose an expression for getting the qoutient of two columns `RCFD1111 / RCFD2222` and the denominator column is zero. The resulting value should be null."
   ]
  },
  {
   "cell_type": "markdown",
   "metadata": {},
   "source": [
    "### Process (Do not use)\n",
    "1. Get all the individual MDRM codes (not the calculated codes) defined in the metadata.\n",
    "2. For each MDRM code that does not exist yet in Attic, create a column for that MDRM code with value equal to 0.\n",
    "3. When pandas.eval evaluates an expression that contains a null value, it will result in a null value. Hence, 0 is used as a replacement for null.\n",
    "\n",
    "### Process (Current)\n",
    "1. Evaluate the numerator expression available in the metadata. \n",
    "2. If all of the MDRM code in the numerator does not exist yet in Attic, the overall expression should return null.\n",
    "3. If at least one MDRM code in the numerator exist, fill the missing MDRM code with zero<sup>1</sup>.\n",
    "5. If numerator is not null, evaluate the denominator expression available in the metadata.\n",
    "4. If all of the MDRM code in the denominator does not exist yet in Attic, the overall expression should return null.\n",
    "5. If at least one MDRM code in the denominator exist, fill the missing MDRM code with zero.\n",
    "5. If the denominator result is 0, the overall expression should return null.\n",
    "\n",
    "<sup>1</sup> When pandas.eval evaluates an expression that contains a null value, it will result in a null value. Hence, 0 is used as a replacement for null.\n",
    "\n",
    "\n"
   ]
  },
  {
   "cell_type": "markdown",
   "metadata": {},
   "source": [
    "### Solutions\n",
    "1. Create columns in the metadata for numerator and denominator\n",
    "2. Break down the MDRM Code expression into Numerator and Denominator\n",
    "3. Example 1: \"a + b\" will have numerator equal to \"a + b\" and denominator equal to \"1\"\n",
    "4. Example 2: \"(a + b)/c\" will have a numerator equal to \"a + b\" and denominator equal to \"c\"\n"
   ]
  },
  {
   "cell_type": "code",
   "execution_count": null,
   "metadata": {},
   "outputs": [
    {
     "data": {
      "text/html": [
       "<div>\n",
       "<style scoped>\n",
       "    .dataframe tbody tr th:only-of-type {\n",
       "        vertical-align: middle;\n",
       "    }\n",
       "\n",
       "    .dataframe tbody tr th {\n",
       "        vertical-align: top;\n",
       "    }\n",
       "\n",
       "    .dataframe thead th {\n",
       "        text-align: right;\n",
       "    }\n",
       "</style>\n",
       "<table border=\"1\" class=\"dataframe\">\n",
       "  <thead>\n",
       "    <tr style=\"text-align: right;\">\n",
       "      <th></th>\n",
       "      <th>RCFD1111</th>\n",
       "      <th>RCFD2222</th>\n",
       "      <th>RCFD3333</th>\n",
       "      <th>RCFD5555</th>\n",
       "    </tr>\n",
       "  </thead>\n",
       "  <tbody>\n",
       "    <tr>\n",
       "      <th>0</th>\n",
       "      <td>1</td>\n",
       "      <td>1</td>\n",
       "      <td>NaN</td>\n",
       "      <td>NaN</td>\n",
       "    </tr>\n",
       "    <tr>\n",
       "      <th>1</th>\n",
       "      <td>2</td>\n",
       "      <td>2</td>\n",
       "      <td>2.0</td>\n",
       "      <td>NaN</td>\n",
       "    </tr>\n",
       "    <tr>\n",
       "      <th>2</th>\n",
       "      <td>3</td>\n",
       "      <td>3</td>\n",
       "      <td>3.0</td>\n",
       "      <td>NaN</td>\n",
       "    </tr>\n",
       "  </tbody>\n",
       "</table>\n",
       "</div>"
      ],
      "text/plain": [
       "   RCFD1111  RCFD2222  RCFD3333  RCFD5555\n",
       "0         1         1       NaN       NaN\n",
       "1         2         2       2.0       NaN\n",
       "2         3         3       3.0       NaN"
      ]
     },
     "execution_count": 65,
     "metadata": {},
     "output_type": "execute_result"
    }
   ],
   "source": [
    "df = pd.DataFrame({\"RCFD1111\": [1, 2, 3], \"RCFD2222\": [1, 2, 3], \"RCFD3333\": [np.nan, 2, 3]})\n",
    "\n",
    "pattern = r'[A-Z]{4}[A-Z0-9]{4}'\n",
    "eval_string = \"RCFD1111 + RCFD5555 / RCFD3333\"\n",
    "mdrm_columns = re.findall(pattern, eval_string)\n",
    "\n",
    "# If at least one column exist in the database\n",
    "if set(mdrm_columns) & set(df.columns):\n",
    "    for column in mdrm_columns:\n",
    "        if column not in df.columns:\n",
    "            df[column] = np.nan\n",
    "\n",
    "df"
   ]
  }
 ],
 "metadata": {
  "kernelspec": {
   "display_name": ".venv",
   "language": "python",
   "name": "python3"
  },
  "language_info": {
   "codemirror_mode": {
    "name": "ipython",
    "version": 3
   },
   "file_extension": ".py",
   "mimetype": "text/x-python",
   "name": "python",
   "nbconvert_exporter": "python",
   "pygments_lexer": "ipython3",
   "version": "3.11.1"
  }
 },
 "nbformat": 4,
 "nbformat_minor": 2
}
