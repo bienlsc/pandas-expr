{
 "cells": [
  {
   "cell_type": "code",
   "execution_count": 261,
   "metadata": {},
   "outputs": [],
   "source": [
    "import pandas as pd\n",
    "import numpy as np\n",
    "import regex as re"
   ]
  },
  {
   "cell_type": "code",
   "execution_count": 262,
   "metadata": {},
   "outputs": [
    {
     "name": "stdout",
     "output_type": "stream",
     "text": [
      "<class 'pandas.errors.UndefinedVariableError'>\n"
     ]
    },
    {
     "data": {
      "text/html": [
       "<div>\n",
       "<style scoped>\n",
       "    .dataframe tbody tr th:only-of-type {\n",
       "        vertical-align: middle;\n",
       "    }\n",
       "\n",
       "    .dataframe tbody tr th {\n",
       "        vertical-align: top;\n",
       "    }\n",
       "\n",
       "    .dataframe thead th {\n",
       "        text-align: right;\n",
       "    }\n",
       "</style>\n",
       "<table border=\"1\" class=\"dataframe\">\n",
       "  <thead>\n",
       "    <tr style=\"text-align: right;\">\n",
       "      <th></th>\n",
       "      <th>RCFD1111</th>\n",
       "      <th>RCFD2222</th>\n",
       "      <th>RCFD3333</th>\n",
       "    </tr>\n",
       "  </thead>\n",
       "  <tbody>\n",
       "    <tr>\n",
       "      <th>0</th>\n",
       "      <td>1</td>\n",
       "      <td>1</td>\n",
       "      <td>1</td>\n",
       "    </tr>\n",
       "    <tr>\n",
       "      <th>1</th>\n",
       "      <td>2</td>\n",
       "      <td>2</td>\n",
       "      <td>2</td>\n",
       "    </tr>\n",
       "    <tr>\n",
       "      <th>2</th>\n",
       "      <td>3</td>\n",
       "      <td>3</td>\n",
       "      <td>3</td>\n",
       "    </tr>\n",
       "  </tbody>\n",
       "</table>\n",
       "</div>"
      ],
      "text/plain": [
       "   RCFD1111  RCFD2222  RCFD3333\n",
       "0         1         1         1\n",
       "1         2         2         2\n",
       "2         3         3         3"
      ]
     },
     "execution_count": 262,
     "metadata": {},
     "output_type": "execute_result"
    }
   ],
   "source": [
    "# pandas.errors.UndefinedVariableError occurs when the variable or column name does not exist\n",
    "df = pd.DataFrame({\"RCFD1111\": [1, 2, 3], \"RCFD2222\": [1, 2, 3], \"RCFD3333\": [1, 2, 3]})\n",
    "try:\n",
    "    eval_string = \"RCFD1111 + RCFD5555\"\n",
    "    df[eval_string] = df.eval(eval_string)\n",
    "except Exception as e:\n",
    "    print(type(e))\n",
    "df\n"
   ]
  },
  {
   "cell_type": "code",
   "execution_count": 263,
   "metadata": {},
   "outputs": [
    {
     "data": {
      "text/html": [
       "<div>\n",
       "<style scoped>\n",
       "    .dataframe tbody tr th:only-of-type {\n",
       "        vertical-align: middle;\n",
       "    }\n",
       "\n",
       "    .dataframe tbody tr th {\n",
       "        vertical-align: top;\n",
       "    }\n",
       "\n",
       "    .dataframe thead th {\n",
       "        text-align: right;\n",
       "    }\n",
       "</style>\n",
       "<table border=\"1\" class=\"dataframe\">\n",
       "  <thead>\n",
       "    <tr style=\"text-align: right;\">\n",
       "      <th></th>\n",
       "      <th>RCFD1111</th>\n",
       "      <th>RCFD2222</th>\n",
       "      <th>RCFD3333</th>\n",
       "      <th>RCFD1111 + RCFD2222</th>\n",
       "    </tr>\n",
       "  </thead>\n",
       "  <tbody>\n",
       "    <tr>\n",
       "      <th>0</th>\n",
       "      <td>1</td>\n",
       "      <td>NaN</td>\n",
       "      <td>1</td>\n",
       "      <td>NaN</td>\n",
       "    </tr>\n",
       "    <tr>\n",
       "      <th>1</th>\n",
       "      <td>2</td>\n",
       "      <td>2.0</td>\n",
       "      <td>2</td>\n",
       "      <td>4.0</td>\n",
       "    </tr>\n",
       "    <tr>\n",
       "      <th>2</th>\n",
       "      <td>3</td>\n",
       "      <td>3.0</td>\n",
       "      <td>3</td>\n",
       "      <td>6.0</td>\n",
       "    </tr>\n",
       "  </tbody>\n",
       "</table>\n",
       "</div>"
      ],
      "text/plain": [
       "   RCFD1111  RCFD2222  RCFD3333  RCFD1111 + RCFD2222\n",
       "0         1       NaN         1                  NaN\n",
       "1         2       2.0         2                  4.0\n",
       "2         3       3.0         3                  6.0"
      ]
     },
     "execution_count": 263,
     "metadata": {},
     "output_type": "execute_result"
    }
   ],
   "source": [
    "# Any value containg a null, when evaluated, will always result in a null\n",
    "df = pd.DataFrame({\"RCFD1111\": [1, 2, 3], \"RCFD2222\": [np.nan, 2, 3], \"RCFD3333\": [1, 2, 3]})\n",
    "try:\n",
    "    eval_string = \"RCFD1111 + RCFD2222\"\n",
    "    df[eval_string] = df.eval(eval_string)\n",
    "except Exception as e:\n",
    "    print(type(e))\n",
    "df\n"
   ]
  },
  {
   "cell_type": "code",
   "execution_count": 264,
   "metadata": {},
   "outputs": [
    {
     "name": "stdout",
     "output_type": "stream",
     "text": [
      "<class 'pandas.errors.UndefinedVariableError'>\n"
     ]
    },
    {
     "data": {
      "text/html": [
       "<div>\n",
       "<style scoped>\n",
       "    .dataframe tbody tr th:only-of-type {\n",
       "        vertical-align: middle;\n",
       "    }\n",
       "\n",
       "    .dataframe tbody tr th {\n",
       "        vertical-align: top;\n",
       "    }\n",
       "\n",
       "    .dataframe thead th {\n",
       "        text-align: right;\n",
       "    }\n",
       "</style>\n",
       "<table border=\"1\" class=\"dataframe\">\n",
       "  <thead>\n",
       "    <tr style=\"text-align: right;\">\n",
       "      <th></th>\n",
       "      <th>RCFD1111</th>\n",
       "      <th>RCFD2222</th>\n",
       "      <th>RCFD3333</th>\n",
       "    </tr>\n",
       "  </thead>\n",
       "  <tbody>\n",
       "    <tr>\n",
       "      <th>0</th>\n",
       "      <td>1</td>\n",
       "      <td>NaN</td>\n",
       "      <td>1</td>\n",
       "    </tr>\n",
       "    <tr>\n",
       "      <th>1</th>\n",
       "      <td>2</td>\n",
       "      <td>2.0</td>\n",
       "      <td>2</td>\n",
       "    </tr>\n",
       "    <tr>\n",
       "      <th>2</th>\n",
       "      <td>3</td>\n",
       "      <td>3.0</td>\n",
       "      <td>3</td>\n",
       "    </tr>\n",
       "  </tbody>\n",
       "</table>\n",
       "</div>"
      ],
      "text/plain": [
       "   RCFD1111  RCFD2222  RCFD3333\n",
       "0         1       NaN         1\n",
       "1         2       2.0         2\n",
       "2         3       3.0         3"
      ]
     },
     "execution_count": 264,
     "metadata": {},
     "output_type": "execute_result"
    }
   ],
   "source": [
    "# Missing column name or variable will always have precedence over null values\n",
    "df = pd.DataFrame({\"RCFD1111\": [1, 2, 3], \"RCFD2222\": [np.nan, 2, 3], \"RCFD3333\": [1, 2, 3]})\n",
    "try:\n",
    "    eval_string = \"RCFD1111 + RCFD2222 + RCFD5555\"\n",
    "    df[eval_string] = df.eval(eval_string)\n",
    "except Exception as e:\n",
    "    print(type(e))\n",
    "df\n"
   ]
  },
  {
   "cell_type": "code",
   "execution_count": 265,
   "metadata": {},
   "outputs": [
    {
     "data": {
      "text/html": [
       "<div>\n",
       "<style scoped>\n",
       "    .dataframe tbody tr th:only-of-type {\n",
       "        vertical-align: middle;\n",
       "    }\n",
       "\n",
       "    .dataframe tbody tr th {\n",
       "        vertical-align: top;\n",
       "    }\n",
       "\n",
       "    .dataframe thead th {\n",
       "        text-align: right;\n",
       "    }\n",
       "</style>\n",
       "<table border=\"1\" class=\"dataframe\">\n",
       "  <thead>\n",
       "    <tr style=\"text-align: right;\">\n",
       "      <th></th>\n",
       "      <th>RCFD1111</th>\n",
       "      <th>RCFD2222</th>\n",
       "      <th>RCFD3333</th>\n",
       "      <th>RCFD1111 / RCFD3333</th>\n",
       "    </tr>\n",
       "  </thead>\n",
       "  <tbody>\n",
       "    <tr>\n",
       "      <th>0</th>\n",
       "      <td>1</td>\n",
       "      <td>1</td>\n",
       "      <td>0</td>\n",
       "      <td>inf</td>\n",
       "    </tr>\n",
       "    <tr>\n",
       "      <th>1</th>\n",
       "      <td>2</td>\n",
       "      <td>2</td>\n",
       "      <td>2</td>\n",
       "      <td>1.0</td>\n",
       "    </tr>\n",
       "    <tr>\n",
       "      <th>2</th>\n",
       "      <td>3</td>\n",
       "      <td>3</td>\n",
       "      <td>3</td>\n",
       "      <td>1.0</td>\n",
       "    </tr>\n",
       "  </tbody>\n",
       "</table>\n",
       "</div>"
      ],
      "text/plain": [
       "   RCFD1111  RCFD2222  RCFD3333  RCFD1111 / RCFD3333\n",
       "0         1         1         0                  inf\n",
       "1         2         2         2                  1.0\n",
       "2         3         3         3                  1.0"
      ]
     },
     "execution_count": 265,
     "metadata": {},
     "output_type": "execute_result"
    }
   ],
   "source": [
    "# If the denominator contains a 0, the resulting value will be inf\n",
    "df = pd.DataFrame({\"RCFD1111\": [1, 2, 3], \"RCFD2222\": [1, 2, 3], \"RCFD3333\": [0, 2, 3]})\n",
    "try:\n",
    "    eval_string = \"RCFD1111 / RCFD3333\"\n",
    "    df[eval_string] = df.eval(eval_string)\n",
    "except Exception as e:\n",
    "    print(e)\n",
    "    print(type(e))\n",
    "df"
   ]
  },
  {
   "cell_type": "code",
   "execution_count": 266,
   "metadata": {},
   "outputs": [
    {
     "data": {
      "text/html": [
       "<div>\n",
       "<style scoped>\n",
       "    .dataframe tbody tr th:only-of-type {\n",
       "        vertical-align: middle;\n",
       "    }\n",
       "\n",
       "    .dataframe tbody tr th {\n",
       "        vertical-align: top;\n",
       "    }\n",
       "\n",
       "    .dataframe thead th {\n",
       "        text-align: right;\n",
       "    }\n",
       "</style>\n",
       "<table border=\"1\" class=\"dataframe\">\n",
       "  <thead>\n",
       "    <tr style=\"text-align: right;\">\n",
       "      <th></th>\n",
       "      <th>RCFD1111</th>\n",
       "      <th>RCFD2222</th>\n",
       "      <th>RCFD3333</th>\n",
       "      <th>RCFD1111 / RCFD3333</th>\n",
       "    </tr>\n",
       "  </thead>\n",
       "  <tbody>\n",
       "    <tr>\n",
       "      <th>0</th>\n",
       "      <td>1</td>\n",
       "      <td>1</td>\n",
       "      <td>NaN</td>\n",
       "      <td>NaN</td>\n",
       "    </tr>\n",
       "    <tr>\n",
       "      <th>1</th>\n",
       "      <td>2</td>\n",
       "      <td>2</td>\n",
       "      <td>2.0</td>\n",
       "      <td>1.0</td>\n",
       "    </tr>\n",
       "    <tr>\n",
       "      <th>2</th>\n",
       "      <td>3</td>\n",
       "      <td>3</td>\n",
       "      <td>3.0</td>\n",
       "      <td>1.0</td>\n",
       "    </tr>\n",
       "  </tbody>\n",
       "</table>\n",
       "</div>"
      ],
      "text/plain": [
       "   RCFD1111  RCFD2222  RCFD3333  RCFD1111 / RCFD3333\n",
       "0         1         1       NaN                  NaN\n",
       "1         2         2       2.0                  1.0\n",
       "2         3         3       3.0                  1.0"
      ]
     },
     "execution_count": 266,
     "metadata": {},
     "output_type": "execute_result"
    }
   ],
   "source": [
    "# If the denominator contains a null, the resulting value will be null\n",
    "df = pd.DataFrame({\"RCFD1111\": [1, 2, 3], \"RCFD2222\": [1, 2, 3], \"RCFD3333\": [np.nan, 2, 3]})\n",
    "try:\n",
    "    eval_string = \"RCFD1111 / RCFD3333\"\n",
    "    df[eval_string] = df.eval(eval_string)\n",
    "except Exception as e:\n",
    "    print(e)\n",
    "    print(type(e))\n",
    "df"
   ]
  },
  {
   "cell_type": "code",
   "execution_count": 267,
   "metadata": {},
   "outputs": [
    {
     "data": {
      "text/html": [
       "<div>\n",
       "<style scoped>\n",
       "    .dataframe tbody tr th:only-of-type {\n",
       "        vertical-align: middle;\n",
       "    }\n",
       "\n",
       "    .dataframe tbody tr th {\n",
       "        vertical-align: top;\n",
       "    }\n",
       "\n",
       "    .dataframe thead th {\n",
       "        text-align: right;\n",
       "    }\n",
       "</style>\n",
       "<table border=\"1\" class=\"dataframe\">\n",
       "  <thead>\n",
       "    <tr style=\"text-align: right;\">\n",
       "      <th></th>\n",
       "      <th>RCFD1111</th>\n",
       "      <th>RCFD2222</th>\n",
       "      <th>RCFD3333</th>\n",
       "      <th>RCFD1111 / RCFD3333</th>\n",
       "    </tr>\n",
       "  </thead>\n",
       "  <tbody>\n",
       "    <tr>\n",
       "      <th>0</th>\n",
       "      <td>1</td>\n",
       "      <td>1</td>\n",
       "      <td>NaN</td>\n",
       "      <td>NaN</td>\n",
       "    </tr>\n",
       "    <tr>\n",
       "      <th>1</th>\n",
       "      <td>2</td>\n",
       "      <td>2</td>\n",
       "      <td>0.0</td>\n",
       "      <td>inf</td>\n",
       "    </tr>\n",
       "    <tr>\n",
       "      <th>2</th>\n",
       "      <td>0</td>\n",
       "      <td>3</td>\n",
       "      <td>0.0</td>\n",
       "      <td>NaN</td>\n",
       "    </tr>\n",
       "  </tbody>\n",
       "</table>\n",
       "</div>"
      ],
      "text/plain": [
       "   RCFD1111  RCFD2222  RCFD3333  RCFD1111 / RCFD3333\n",
       "0         1         1       NaN                  NaN\n",
       "1         2         2       0.0                  inf\n",
       "2         0         3       0.0                  NaN"
      ]
     },
     "execution_count": 267,
     "metadata": {},
     "output_type": "execute_result"
    }
   ],
   "source": [
    "# 1. Using regex, extract the column names for individual MDRM codes\n",
    "pattern = r'^[A-Z]{4}[A-Z0-9]{4}'\n",
    "\n",
    "# If the denominator contains a null, the resulting value will be null\n",
    "df = pd.DataFrame({\"RCFD1111\": [1, 2, 0], \"RCFD2222\": [1, 2, 3], \"RCFD3333\": [np.nan, 0, 0]})\n",
    "try:\n",
    "    eval_string = \"RCFD1111 / RCFD3333\"\n",
    "    mdrm_columns = re.findall(pattern, eval_string)\n",
    "    df[eval_string] = df.eval(eval_string)\n",
    "except Exception as e:\n",
    "    print(e)\n",
    "    print(type(e))\n",
    "df"
   ]
  },
  {
   "cell_type": "markdown",
   "metadata": {},
   "source": [
    "### Business Logic:\n",
    "  * Suppose an expression for getting the sum of two columns is `RCFD1111 + RCFD2222` and the column `RCFD2222` does not exist but `RCFD1111` does. The result should not be null.\n",
    "  * Suppose an expression for getting the sum of two columns is `RCFD1111 + RCFD2222` and both `RCFD1111` and `RCFD2222` do not exist. This should result in a null value.\n",
    "  * Suppose an expression for getting the qoutient of two columns `RCFD1111 / RCFD2222` and either the numerator or denominator column does not exist. The resulting value should be null.\n",
    "  * Suppose an expression for getting the qoutient of two columns `RCFD1111 / RCFD2222` and the numerator is zero and the denominator is non-null value. The resulting value should be zero.\n",
    "  * Suppose an expression for getting the qoutient of two columns `RCFD1111 / RCFD2222` and the numerator is non-zero and the denominator is zero. The resulting value is infinite and should be converted to null."
   ]
  },
  {
   "cell_type": "markdown",
   "metadata": {},
   "source": [
    "### Solution\n",
    "\n",
    "### Metadata Preparation\n",
    "1. Create columns in the metadata for numerator and denominator\n",
    "2. Break down the MDRM Code expression into Numerator and Denominator\n",
    "3. Example 1: \"a + b\" will have numerator equal to \"a + b\" and denominator equal to \"1\"\n",
    "4. Example 2: \"(a + b)/c\" will have a numerator equal to \"a + b\" and denominator equal to \"c\"\n"
   ]
  },
  {
   "cell_type": "markdown",
   "metadata": {},
   "source": [
    "### Process\n",
    "1. Evaluate the numerator expression available in the metadata. \n",
    "2. If all of the MDRM code in the numerator does not exist yet in Attic, the overall expression should return null.\n",
    "3. If at least one MDRM code in the numerator exist, fill the missing MDRM code with zero<sup>1</sup>.\n",
    "5. Evaluate the denominator expression available in the metadata.\n",
    "4. If all of the MDRM code in the denominator does not exist yet in Attic, the overall expression should return null.\n",
    "5. If at least one MDRM code in the denominator exist, fill the missing MDRM code with zero.\n",
    "5. If the denominator result is 0, the overall expression should return null.\n",
    "\n",
    "<sup>1</sup> When pandas.eval evaluates an expression that contains a null value, it will result in a null value. Hence, 0 is used as a replacement for null.\n",
    "\n",
    "\n"
   ]
  },
  {
   "cell_type": "code",
   "execution_count": 268,
   "metadata": {},
   "outputs": [
    {
     "data": {
      "text/html": [
       "<div>\n",
       "<style scoped>\n",
       "    .dataframe tbody tr th:only-of-type {\n",
       "        vertical-align: middle;\n",
       "    }\n",
       "\n",
       "    .dataframe tbody tr th {\n",
       "        vertical-align: top;\n",
       "    }\n",
       "\n",
       "    .dataframe thead th {\n",
       "        text-align: right;\n",
       "    }\n",
       "</style>\n",
       "<table border=\"1\" class=\"dataframe\">\n",
       "  <thead>\n",
       "    <tr style=\"text-align: right;\">\n",
       "      <th></th>\n",
       "      <th>RCFD1111</th>\n",
       "      <th>RCFD2222</th>\n",
       "      <th>RCFD3333</th>\n",
       "    </tr>\n",
       "  </thead>\n",
       "  <tbody>\n",
       "    <tr>\n",
       "      <th>0</th>\n",
       "      <td>1.0</td>\n",
       "      <td>1.0</td>\n",
       "      <td>0</td>\n",
       "    </tr>\n",
       "    <tr>\n",
       "      <th>1</th>\n",
       "      <td>NaN</td>\n",
       "      <td>NaN</td>\n",
       "      <td>2</td>\n",
       "    </tr>\n",
       "    <tr>\n",
       "      <th>2</th>\n",
       "      <td>NaN</td>\n",
       "      <td>3.0</td>\n",
       "      <td>3</td>\n",
       "    </tr>\n",
       "  </tbody>\n",
       "</table>\n",
       "</div>"
      ],
      "text/plain": [
       "   RCFD1111  RCFD2222  RCFD3333\n",
       "0       1.0       1.0         0\n",
       "1       NaN       NaN         2\n",
       "2       NaN       3.0         3"
      ]
     },
     "execution_count": 268,
     "metadata": {},
     "output_type": "execute_result"
    }
   ],
   "source": [
    "# Create a dataframe\n",
    "df = pd.DataFrame({\"RCFD1111\": [1, np.nan, np.nan], \"RCFD2222\": [1, np.nan, 3], \"RCFD3333\": [0, 2, 3]})\n",
    "df"
   ]
  },
  {
   "cell_type": "code",
   "execution_count": 269,
   "metadata": {},
   "outputs": [
    {
     "data": {
      "text/html": [
       "<div>\n",
       "<style scoped>\n",
       "    .dataframe tbody tr th:only-of-type {\n",
       "        vertical-align: middle;\n",
       "    }\n",
       "\n",
       "    .dataframe tbody tr th {\n",
       "        vertical-align: top;\n",
       "    }\n",
       "\n",
       "    .dataframe thead th {\n",
       "        text-align: right;\n",
       "    }\n",
       "</style>\n",
       "<table border=\"1\" class=\"dataframe\">\n",
       "  <thead>\n",
       "    <tr style=\"text-align: right;\">\n",
       "      <th></th>\n",
       "      <th>MDRM Code</th>\n",
       "      <th>Numerator</th>\n",
       "      <th>Denominator</th>\n",
       "    </tr>\n",
       "  </thead>\n",
       "  <tbody>\n",
       "    <tr>\n",
       "      <th>0</th>\n",
       "      <td>RCFD1111 + RCFD2222</td>\n",
       "      <td>RCFD1111 + RCFD2222</td>\n",
       "      <td>1</td>\n",
       "    </tr>\n",
       "    <tr>\n",
       "      <th>1</th>\n",
       "      <td>(RCFD1111 + RCFD2222) / RCFD3333</td>\n",
       "      <td>(RCFD1111 + RCFD2222)</td>\n",
       "      <td>RCFD3333</td>\n",
       "    </tr>\n",
       "  </tbody>\n",
       "</table>\n",
       "</div>"
      ],
      "text/plain": [
       "                          MDRM Code              Numerator Denominator\n",
       "0               RCFD1111 + RCFD2222    RCFD1111 + RCFD2222           1\n",
       "1  (RCFD1111 + RCFD2222) / RCFD3333  (RCFD1111 + RCFD2222)    RCFD3333"
      ]
     },
     "execution_count": 269,
     "metadata": {},
     "output_type": "execute_result"
    }
   ],
   "source": [
    "df_mapping = pd.DataFrame(\n",
    "    {\n",
    "        \"MDRM Code\": [\"RCFD1111 + RCFD2222\", \"(RCFD1111 + RCFD2222) / RCFD3333\"],\n",
    "        \"Numerator\": [\"RCFD1111 + RCFD2222\", \"(RCFD1111 + RCFD2222)\"],\n",
    "        \"Denominator\": [1, \"RCFD3333\"],\n",
    "    }\n",
    ")\n",
    "df_mapping"
   ]
  },
  {
   "cell_type": "code",
   "execution_count": 270,
   "metadata": {},
   "outputs": [],
   "source": [
    "for index, row in df_mapping.iterrows():\n",
    "    mdrm_code_expression = row[\"MDRM Code\"]\n",
    "    numerator_expression = row[\"Numerator\"]\n",
    "    denominator_expression = row[\"Denominator\"]\n",
    "\n",
    "    # No need to evaluate already existing expression in the dataframe columns\n",
    "    if mdrm_code_expression in df.columns:\n",
    "        continue\n",
    "    \n",
    "    # These returns pandas series of equivalent to the result of an expression when evaluated.\n",
    "    # Example: The expression RCFD1111 + RCFD2222 will return a series containing the sum of columns RCFD1111 and RCFD2222\n",
    "    numerator_values = df.eval(numerator_expression)\n",
    "    denominator_values = df.eval(denominator_expression)\n",
    "    \n",
    "    df[mdrm_code_expression] = numerator_values / denominator_values"
   ]
  },
  {
   "cell_type": "code",
   "execution_count": 271,
   "metadata": {},
   "outputs": [
    {
     "data": {
      "text/html": [
       "<div>\n",
       "<style scoped>\n",
       "    .dataframe tbody tr th:only-of-type {\n",
       "        vertical-align: middle;\n",
       "    }\n",
       "\n",
       "    .dataframe tbody tr th {\n",
       "        vertical-align: top;\n",
       "    }\n",
       "\n",
       "    .dataframe thead th {\n",
       "        text-align: right;\n",
       "    }\n",
       "</style>\n",
       "<table border=\"1\" class=\"dataframe\">\n",
       "  <thead>\n",
       "    <tr style=\"text-align: right;\">\n",
       "      <th></th>\n",
       "      <th>RCFD1111</th>\n",
       "      <th>RCFD2222</th>\n",
       "      <th>RCFD3333</th>\n",
       "      <th>RCFD1111 + RCFD2222</th>\n",
       "      <th>(RCFD1111 + RCFD2222) / RCFD3333</th>\n",
       "    </tr>\n",
       "  </thead>\n",
       "  <tbody>\n",
       "    <tr>\n",
       "      <th>0</th>\n",
       "      <td>1.0</td>\n",
       "      <td>1.0</td>\n",
       "      <td>0</td>\n",
       "      <td>2.0</td>\n",
       "      <td>inf</td>\n",
       "    </tr>\n",
       "    <tr>\n",
       "      <th>1</th>\n",
       "      <td>NaN</td>\n",
       "      <td>NaN</td>\n",
       "      <td>2</td>\n",
       "      <td>NaN</td>\n",
       "      <td>NaN</td>\n",
       "    </tr>\n",
       "    <tr>\n",
       "      <th>2</th>\n",
       "      <td>NaN</td>\n",
       "      <td>3.0</td>\n",
       "      <td>3</td>\n",
       "      <td>NaN</td>\n",
       "      <td>NaN</td>\n",
       "    </tr>\n",
       "  </tbody>\n",
       "</table>\n",
       "</div>"
      ],
      "text/plain": [
       "   RCFD1111  RCFD2222  RCFD3333  RCFD1111 + RCFD2222  \\\n",
       "0       1.0       1.0         0                  2.0   \n",
       "1       NaN       NaN         2                  NaN   \n",
       "2       NaN       3.0         3                  NaN   \n",
       "\n",
       "   (RCFD1111 + RCFD2222) / RCFD3333  \n",
       "0                               inf  \n",
       "1                               NaN  \n",
       "2                               NaN  "
      ]
     },
     "execution_count": 271,
     "metadata": {},
     "output_type": "execute_result"
    }
   ],
   "source": [
    "df"
   ]
  },
  {
   "cell_type": "markdown",
   "metadata": {},
   "source": [
    "The problem with this is that in the last row, the sum of `RCFD1111 + RCFD2222` is `NaN` instead of 3."
   ]
  },
  {
   "cell_type": "markdown",
   "metadata": {},
   "source": [
    "To solve this, we need to make sure that when there is at least 1 non-null value in a summation expression, it should not return in a null."
   ]
  },
  {
   "cell_type": "code",
   "execution_count": 272,
   "metadata": {},
   "outputs": [
    {
     "data": {
      "text/html": [
       "<div>\n",
       "<style scoped>\n",
       "    .dataframe tbody tr th:only-of-type {\n",
       "        vertical-align: middle;\n",
       "    }\n",
       "\n",
       "    .dataframe tbody tr th {\n",
       "        vertical-align: top;\n",
       "    }\n",
       "\n",
       "    .dataframe thead th {\n",
       "        text-align: right;\n",
       "    }\n",
       "</style>\n",
       "<table border=\"1\" class=\"dataframe\">\n",
       "  <thead>\n",
       "    <tr style=\"text-align: right;\">\n",
       "      <th></th>\n",
       "      <th>RCFD1111</th>\n",
       "      <th>RCFD2222</th>\n",
       "      <th>RCFD3333</th>\n",
       "    </tr>\n",
       "  </thead>\n",
       "  <tbody>\n",
       "    <tr>\n",
       "      <th>0</th>\n",
       "      <td>1.0</td>\n",
       "      <td>1.0</td>\n",
       "      <td>0.0</td>\n",
       "    </tr>\n",
       "    <tr>\n",
       "      <th>1</th>\n",
       "      <td>NaN</td>\n",
       "      <td>NaN</td>\n",
       "      <td>2.0</td>\n",
       "    </tr>\n",
       "    <tr>\n",
       "      <th>2</th>\n",
       "      <td>NaN</td>\n",
       "      <td>3.0</td>\n",
       "      <td>3.0</td>\n",
       "    </tr>\n",
       "    <tr>\n",
       "      <th>3</th>\n",
       "      <td>4.0</td>\n",
       "      <td>4.0</td>\n",
       "      <td>NaN</td>\n",
       "    </tr>\n",
       "  </tbody>\n",
       "</table>\n",
       "</div>"
      ],
      "text/plain": [
       "   RCFD1111  RCFD2222  RCFD3333\n",
       "0       1.0       1.0       0.0\n",
       "1       NaN       NaN       2.0\n",
       "2       NaN       3.0       3.0\n",
       "3       4.0       4.0       NaN"
      ]
     },
     "execution_count": 272,
     "metadata": {},
     "output_type": "execute_result"
    }
   ],
   "source": [
    "# Create a dataframe\n",
    "df = pd.DataFrame({\"RCFD1111\": [1, np.nan, np.nan, 4], \"RCFD2222\": [1, np.nan, 3, 4], \"RCFD3333\": [0, 2, 3, np.nan]})\n",
    "df"
   ]
  },
  {
   "cell_type": "markdown",
   "metadata": {},
   "source": [
    "### Create a function for handling at least one existing MDRM Code logic"
   ]
  },
  {
   "cell_type": "code",
   "execution_count": 273,
   "metadata": {},
   "outputs": [],
   "source": [
    "def evaluate_expression(df_input: pd.DataFrame, expression):\n",
    "    \"\"\"\n",
    "    Evaluates the given expression on an input DataFrame, with additional handling for MDRM codes.\n",
    "\n",
    "    Parameters:\n",
    "        df_input (pd.DataFrame): The input DataFrame to evaluate the expression on.\n",
    "        expression (str): The expression to evaluate.\n",
    "    \"\"\"\n",
    "\n",
    "    df_input = df_input.copy()  # Needs to create a copy to avoid modifying the original referenced dataframe\n",
    "    pattern = r'[A-Z]{4}[A-Z0-9]{4}'    # Regex pattern for an MDRM Code (i.e., RCFD1234)\n",
    "    mdrm_columns = re.findall(pattern, str(expression))     # Get the list of MDRM codes present in the expression\n",
    "\n",
    "    if mdrm_columns:\n",
    "        mask = df_input[mdrm_columns].isna().all(axis=1)    # Mask rows where all of the indicated columns have null values\n",
    "        df_input.loc[~mask, mdrm_columns] = df_input.loc[~mask, mdrm_columns].fillna(0)\n",
    "\n",
    "    return df_input.eval(expression)\n"
   ]
  },
  {
   "cell_type": "code",
   "execution_count": 274,
   "metadata": {},
   "outputs": [],
   "source": [
    "for index, row in df_mapping.iterrows():\n",
    "    mdrm_code_expression = row[\"MDRM Code\"]\n",
    "    numerator_expression = row[\"Numerator\"]\n",
    "    denominator_expression = row[\"Denominator\"]\n",
    "\n",
    "    # No need to evaluate already existing expression in the dataframe columns\n",
    "    if mdrm_code_expression in df.columns:\n",
    "        continue\n",
    "    \n",
    "    # These returns pandas series of equivalent to the result of an expression when evaluated.\n",
    "    # Example: The expression RCFD1111 + RCFD2222 will return a series containing the sum of columns RCFD1111 and RCFD2222\n",
    "    numerator_values = evaluate_expression(df, numerator_expression)\n",
    "    denominator_values = evaluate_expression(df, denominator_expression)  \n",
    "\n",
    "    df[mdrm_code_expression] = numerator_values / denominator_values"
   ]
  },
  {
   "cell_type": "code",
   "execution_count": 275,
   "metadata": {},
   "outputs": [
    {
     "data": {
      "text/html": [
       "<div>\n",
       "<style scoped>\n",
       "    .dataframe tbody tr th:only-of-type {\n",
       "        vertical-align: middle;\n",
       "    }\n",
       "\n",
       "    .dataframe tbody tr th {\n",
       "        vertical-align: top;\n",
       "    }\n",
       "\n",
       "    .dataframe thead th {\n",
       "        text-align: right;\n",
       "    }\n",
       "</style>\n",
       "<table border=\"1\" class=\"dataframe\">\n",
       "  <thead>\n",
       "    <tr style=\"text-align: right;\">\n",
       "      <th></th>\n",
       "      <th>RCFD1111</th>\n",
       "      <th>RCFD2222</th>\n",
       "      <th>RCFD3333</th>\n",
       "      <th>RCFD1111 + RCFD2222</th>\n",
       "      <th>(RCFD1111 + RCFD2222) / RCFD3333</th>\n",
       "    </tr>\n",
       "  </thead>\n",
       "  <tbody>\n",
       "    <tr>\n",
       "      <th>0</th>\n",
       "      <td>1.0</td>\n",
       "      <td>1.0</td>\n",
       "      <td>0.0</td>\n",
       "      <td>2.0</td>\n",
       "      <td>inf</td>\n",
       "    </tr>\n",
       "    <tr>\n",
       "      <th>1</th>\n",
       "      <td>NaN</td>\n",
       "      <td>NaN</td>\n",
       "      <td>2.0</td>\n",
       "      <td>NaN</td>\n",
       "      <td>NaN</td>\n",
       "    </tr>\n",
       "    <tr>\n",
       "      <th>2</th>\n",
       "      <td>NaN</td>\n",
       "      <td>3.0</td>\n",
       "      <td>3.0</td>\n",
       "      <td>3.0</td>\n",
       "      <td>1.0</td>\n",
       "    </tr>\n",
       "    <tr>\n",
       "      <th>3</th>\n",
       "      <td>4.0</td>\n",
       "      <td>4.0</td>\n",
       "      <td>NaN</td>\n",
       "      <td>8.0</td>\n",
       "      <td>NaN</td>\n",
       "    </tr>\n",
       "  </tbody>\n",
       "</table>\n",
       "</div>"
      ],
      "text/plain": [
       "   RCFD1111  RCFD2222  RCFD3333  RCFD1111 + RCFD2222  \\\n",
       "0       1.0       1.0       0.0                  2.0   \n",
       "1       NaN       NaN       2.0                  NaN   \n",
       "2       NaN       3.0       3.0                  3.0   \n",
       "3       4.0       4.0       NaN                  8.0   \n",
       "\n",
       "   (RCFD1111 + RCFD2222) / RCFD3333  \n",
       "0                               inf  \n",
       "1                               NaN  \n",
       "2                               1.0  \n",
       "3                               NaN  "
      ]
     },
     "execution_count": 275,
     "metadata": {},
     "output_type": "execute_result"
    }
   ],
   "source": [
    "df"
   ]
  },
  {
   "cell_type": "markdown",
   "metadata": {},
   "source": [
    "### Do dataframe clean-up\n",
    "* Convert inf to NaN"
   ]
  },
  {
   "cell_type": "code",
   "execution_count": 276,
   "metadata": {},
   "outputs": [
    {
     "data": {
      "text/html": [
       "<div>\n",
       "<style scoped>\n",
       "    .dataframe tbody tr th:only-of-type {\n",
       "        vertical-align: middle;\n",
       "    }\n",
       "\n",
       "    .dataframe tbody tr th {\n",
       "        vertical-align: top;\n",
       "    }\n",
       "\n",
       "    .dataframe thead th {\n",
       "        text-align: right;\n",
       "    }\n",
       "</style>\n",
       "<table border=\"1\" class=\"dataframe\">\n",
       "  <thead>\n",
       "    <tr style=\"text-align: right;\">\n",
       "      <th></th>\n",
       "      <th>RCFD1111</th>\n",
       "      <th>RCFD2222</th>\n",
       "      <th>RCFD3333</th>\n",
       "      <th>RCFD1111 + RCFD2222</th>\n",
       "      <th>(RCFD1111 + RCFD2222) / RCFD3333</th>\n",
       "    </tr>\n",
       "  </thead>\n",
       "  <tbody>\n",
       "    <tr>\n",
       "      <th>0</th>\n",
       "      <td>1.0</td>\n",
       "      <td>1.0</td>\n",
       "      <td>0.0</td>\n",
       "      <td>2.0</td>\n",
       "      <td>NaN</td>\n",
       "    </tr>\n",
       "    <tr>\n",
       "      <th>1</th>\n",
       "      <td>NaN</td>\n",
       "      <td>NaN</td>\n",
       "      <td>2.0</td>\n",
       "      <td>NaN</td>\n",
       "      <td>NaN</td>\n",
       "    </tr>\n",
       "    <tr>\n",
       "      <th>2</th>\n",
       "      <td>NaN</td>\n",
       "      <td>3.0</td>\n",
       "      <td>3.0</td>\n",
       "      <td>3.0</td>\n",
       "      <td>1.0</td>\n",
       "    </tr>\n",
       "    <tr>\n",
       "      <th>3</th>\n",
       "      <td>4.0</td>\n",
       "      <td>4.0</td>\n",
       "      <td>NaN</td>\n",
       "      <td>8.0</td>\n",
       "      <td>NaN</td>\n",
       "    </tr>\n",
       "  </tbody>\n",
       "</table>\n",
       "</div>"
      ],
      "text/plain": [
       "   RCFD1111  RCFD2222  RCFD3333  RCFD1111 + RCFD2222  \\\n",
       "0       1.0       1.0       0.0                  2.0   \n",
       "1       NaN       NaN       2.0                  NaN   \n",
       "2       NaN       3.0       3.0                  3.0   \n",
       "3       4.0       4.0       NaN                  8.0   \n",
       "\n",
       "   (RCFD1111 + RCFD2222) / RCFD3333  \n",
       "0                               NaN  \n",
       "1                               NaN  \n",
       "2                               1.0  \n",
       "3                               NaN  "
      ]
     },
     "execution_count": 276,
     "metadata": {},
     "output_type": "execute_result"
    }
   ],
   "source": [
    "df = df.replace(np.inf, np.nan)\n",
    "df"
   ]
  },
  {
   "cell_type": "code",
   "execution_count": null,
   "metadata": {},
   "outputs": [],
   "source": []
  }
 ],
 "metadata": {
  "kernelspec": {
   "display_name": ".venv",
   "language": "python",
   "name": "python3"
  },
  "language_info": {
   "codemirror_mode": {
    "name": "ipython",
    "version": 3
   },
   "file_extension": ".py",
   "mimetype": "text/x-python",
   "name": "python",
   "nbconvert_exporter": "python",
   "pygments_lexer": "ipython3",
   "version": "3.11.1"
  }
 },
 "nbformat": 4,
 "nbformat_minor": 2
}
