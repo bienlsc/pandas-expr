{
 "cells": [
  {
   "cell_type": "code",
   "execution_count": null,
   "metadata": {},
   "outputs": [],
   "source": [
    "import pandas as pd\n",
    "from sympy import sympify, simplify\n",
    "from sympy.printing.mathml import mathml\n",
    "import re"
   ]
  },
  {
   "cell_type": "code",
   "execution_count": null,
   "metadata": {},
   "outputs": [],
   "source": [
    "def remove_outer_mrow(expression):\n",
    "    \"\"\"\n",
    "    Removes the outer <mrow> tag from the math ML.\n",
    "    \"\"\"\n",
    "\n",
    "    pattern = r'^<mrow>(.*?)</mrow>$'\n",
    "    matches = re.findall(pattern, expression)\n",
    "\n",
    "    if matches:\n",
    "        return max(matches, key=len)\n",
    "    \n",
    "    return expression   # Return original expression if no match"
   ]
  },
  {
   "cell_type": "code",
   "execution_count": null,
   "metadata": {},
   "outputs": [],
   "source": [
    "def build_mathml(expr_str):\n",
    "    \"\"\"Converts a mathematical expression into a Math Markup Language\"\"\"\n",
    "    \n",
    "    expr = sympify(expr_str, evaluate=False)\n",
    "    mathml_expression = mathml(expr, printer='presentation')\n",
    "\n",
    "    mathml_expression = remove_outer_mrow(mathml_expression)\n",
    "\n",
    "    return mathml_expression"
   ]
  },
  {
   "cell_type": "code",
   "execution_count": null,
   "metadata": {},
   "outputs": [],
   "source": [
    "def expression_generator():\n",
    "    def alphabet_generator():\n",
    "        for letter in 'abcdefghijklmnopqrstuvwxyz':\n",
    "            yield letter\n",
    "    generator = alphabet_generator()\n",
    "\n",
    "    for letter in generator:\n",
    "        yield f\"exp{letter}\""
   ]
  },
  {
   "cell_type": "code",
   "execution_count": null,
   "metadata": {},
   "outputs": [],
   "source": [
    "def build_expression_map(vars):\n",
    "    map = {}\n",
    "    expression = expression_generator()       \n",
    "    for var in vars:\n",
    "        map[var] = next(expression)\n",
    "    \n",
    "    return map"
   ]
  },
  {
   "cell_type": "code",
   "execution_count": null,
   "metadata": {},
   "outputs": [],
   "source": [
    "def swap_string(input_string, mapping):\n",
    "    \"\"\"\n",
    "    Replace the words in a string based on the provided dictionary map.\n",
    "    \"\"\"\n",
    "    for key, value in mapping.items():\n",
    "        input_string = input_string.replace(key, value)\n",
    "    \n",
    "    return input_string"
   ]
  },
  {
   "cell_type": "code",
   "execution_count": null,
   "metadata": {},
   "outputs": [],
   "source": [
    "def swap_mapping(mapping: dict):\n",
    "    \"\"\"\n",
    "    Swaps the key-value pair to value:key dictionary. Example, {\"foo\":\"bar\"} becomes {\"bar\":\"foo$identifier}.\n",
    "    The $identfier will be used for string replacement. \n",
    "    \"\"\"\n",
    "    new_map = {}\n",
    "    for key, value in mapping.items():\n",
    "        new_map[value] = key + \"$identifier\"\n",
    "    \n",
    "    return new_map\n"
   ]
  },
  {
   "cell_type": "code",
   "execution_count": null,
   "metadata": {},
   "outputs": [],
   "source": [
    "df_mdrm = pd.DataFrame({\"mdrm\" : [\"RFCD1234 + RFCD1235\", \"(RFCD1234 + RFCD1235 + RFCD1236)/100\", \"(RFCD1234 + RFCD1235)/RFCD1236\"]})\n",
    "\n",
    "pattern = r'(RFCD\\d+)'\n",
    "\n",
    "df_mdrm[\"extracted\"] = df_mdrm['mdrm'].apply(lambda x: re.findall(pattern, x))\n",
    "\n",
    "df_mdrm[\"expression_map\"] = df_mdrm[\"extracted\"].apply(lambda x: build_expression_map(x))\n",
    "\n",
    "df_mdrm[\"math_expression\"] = df_mdrm.apply(lambda row: swap_string(row[\"mdrm\"], row[\"expression_map\"]), axis=1)\n",
    "\n",
    "df_mdrm[\"math_ml\"] = df_mdrm[\"math_expression\"].apply(build_mathml)\n",
    "\n",
    "df_mdrm[\"var_to_mdrm_map\"] = df_mdrm[\"expression_map\"].apply(swap_mapping)\n",
    "\n",
    "df_mdrm[\"formatted_math_ml\"] = df_mdrm.apply(lambda row: swap_string(row[\"math_ml\"], row[\"var_to_mdrm_map\"]), axis=1)\n"
   ]
  },
  {
   "cell_type": "code",
   "execution_count": null,
   "metadata": {},
   "outputs": [],
   "source": []
  }
 ],
 "metadata": {
  "kernelspec": {
   "display_name": ".venv",
   "language": "python",
   "name": "python3"
  },
  "language_info": {
   "codemirror_mode": {
    "name": "ipython",
    "version": 3
   },
   "file_extension": ".py",
   "mimetype": "text/x-python",
   "name": "python",
   "nbconvert_exporter": "python",
   "pygments_lexer": "ipython3",
   "version": "3.11.1"
  }
 },
 "nbformat": 4,
 "nbformat_minor": 2
}
